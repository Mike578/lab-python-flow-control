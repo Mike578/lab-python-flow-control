{
  "cells": [
    {
      "cell_type": "code",
      "source": [
        "# Exercise: Managing Customer Orders\n",
        "\n",
        "# Step 1\n",
        "products = [\"t-shirt\", \"mug\", \"hat\", \"book\", \"keychain\"]\n",
        "\n",
        "# Step 2\n",
        "inventory = {}\n",
        "\n",
        "# Step 3\n",
        "quantity = int(input(\"Enter the quantity of t-shirts available: \"))\n",
        "inventory[\"t-shirt\"] = quantity\n",
        "\n",
        "quantity = int(input(\"Enter the quantity of mugs available: \"))\n",
        "inventory[\"mug\"] = quantity\n",
        "\n",
        "quantity = int(input(\"Enter the quantity of hats available: \"))\n",
        "inventory[\"hat\"] = quantity\n",
        "\n",
        "quantity = int(input(\"Enter the quantity of books available: \"))\n",
        "inventory[\"book\"] = quantity\n",
        "\n",
        "quantity = int(input(\"Enter the quantity of keychains available: \"))\n",
        "inventory[\"keychain\"] = quantity\n",
        "\n",
        "# Step 4\n",
        "customer_orders = set()\n",
        "\n",
        "# Step 5\n",
        "product_name = input(\"Enter the name of a product that a customer wants to order: \")\n",
        "customer_orders.add(product_name)\n",
        "\n",
        "product_name = input(\"Enter the name of another product that a customer wants to order: \")\n",
        "customer_orders.add(product_name)\n",
        "\n",
        "product_name = input(\"Enter the name of one more product that a customer wants to order: \")\n",
        "customer_orders.add(product_name)\n",
        "\n",
        "# Step 6\n",
        "print(\"Products in customer orders:\", customer_orders)\n",
        "\n",
        "# Step 7\n",
        "total_products_ordered = len(customer_orders)\n",
        "percentage_ordered = (total_products_ordered / len(products)) * 100\n",
        "order_status = (total_products_ordered, percentage_ordered)\n",
        "\n",
        "# Step 8\n",
        "print(\"Order Statistics:\")\n",
        "print(\"Total Products Ordered:\", order_status[0])\n",
        "print(\"Percentage of Unique Products Ordered:\", order_status[1])\n",
        "\n",
        "# Step 9\n",
        "inventory[\"t-shirt\"] -= 1\n",
        "inventory[\"mug\"] -= 1\n",
        "inventory[\"hat\"] -= 1\n",
        "inventory[\"book\"] -= 1\n",
        "inventory[\"keychain\"] -= 1\n",
        "\n",
        "# Step 10\n",
        "print(\"Updated Inventory:\")\n",
        "print(\"t-shirt:\", inventory[\"t-shirt\"])\n",
        "print(\"mug:\", inventory[\"mug\"])\n",
        "print(\"hat:\", inventory[\"hat\"])\n",
        "print(\"book:\", inventory[\"book\"])\n",
        "print(\"keychain:\", inventory[\"keychain\"])\n"
      ],
      "metadata": {
        "colab": {
          "base_uri": "https://localhost:8080/"
        },
        "id": "0SPs3MHXchcy",
        "outputId": "a6506069-c71e-4187-a9ef-a048ccee8e5b"
      },
      "id": "0SPs3MHXchcy",
      "execution_count": null,
      "outputs": [
        {
          "output_type": "stream",
          "name": "stdout",
          "text": [
            "Enter the quantity of t-shirts available: 2\n",
            "Enter the quantity of mugs available: 3\n",
            "Enter the quantity of hats available: 4\n",
            "Enter the quantity of books available: 5\n",
            "Enter the quantity of keychains available: 6\n",
            "Enter the name of a product that a customer wants to order: hat\n",
            "Enter the name of another product that a customer wants to order: mug\n",
            "Enter the name of one more product that a customer wants to order: \n",
            "Products in customer orders: {'', 'hat', 'mug'}\n",
            "Order Statistics:\n",
            "Total Products Ordered: 3\n",
            "Percentage of Unique Products Ordered: 60.0\n",
            "Updated Inventory:\n",
            "t-shirt: 1\n",
            "mug: 2\n",
            "hat: 3\n",
            "book: 4\n",
            "keychain: 5\n"
          ]
        }
      ]
    },
    {
      "cell_type": "markdown",
      "id": "d3bfc191-8885-42ee-b0a0-bbab867c6f9f",
      "metadata": {
        "tags": [],
        "id": "d3bfc191-8885-42ee-b0a0-bbab867c6f9f"
      },
      "source": [
        "# Lab | Flow Control"
      ]
    },
    {
      "cell_type": "markdown",
      "id": "3851fcd1-cf98-4653-9c89-e003b7ec9400",
      "metadata": {
        "id": "3851fcd1-cf98-4653-9c89-e003b7ec9400"
      },
      "source": [
        "## Exercise: Managing Customer Orders Optimized\n",
        "\n",
        "In the last lab, you were starting an online store that sells various products. To ensure smooth operations, you developed a program that manages customer orders and inventory.\n",
        "\n",
        "You did so without using flow control. Let's go a step further and improve this code.\n",
        "\n",
        "Follow the steps below to complete the exercise:\n",
        "\n",
        "1. Look at your code from the lab data structures, and improve repeated code with loops.\n",
        "\n",
        "2. Instead of asking the user to input the name of three products that a customer wants to order, do the following:\n",
        "    \n",
        "    a. Prompt the user to enter the name of a product that a customer wants to order.\n",
        "    \n",
        "    b. Add the product name to the \"customer_orders\" set.\n",
        "    \n",
        "    c. Ask the user if they want to add another product (yes/no).\n",
        "    \n",
        "    d. Continue the loop until the user does not want to add another product.\n",
        "\n",
        "3. Instead of updating the inventory by subtracting 1 from the quantity of each product, only do it for  the products that were ordered (those in \"customer_orders\")."
      ]
    },
    {
      "cell_type": "code",
      "source": [
        "'''\n",
        "# As part of a business venture, you are starting an online store that sells various products.\n",
        "To ensure smooth operations, you need to develop a program that manages customer orders and inventory.\n",
        "Follow the steps below to complete the exercise:\n",
        "\n",
        "\n",
        "'''\n",
        "# 1. Define a list called `products` that contains the following items: \"t-shirt\", \"mug\", \"hat\", \"book\", \"keychain\".\n",
        "products = [\"t-shirt\", \"mug\", \"hat\", \"book\", \"keychain\"]\n",
        "\n",
        "# 2. Create an empty dictionary called `inventory`.\n",
        "inventory = {}"
      ],
      "metadata": {
        "id": "LA3HZJ-gdu0B"
      },
      "id": "LA3HZJ-gdu0B",
      "execution_count": null,
      "outputs": []
    },
    {
      "cell_type": "code",
      "source": [
        "# 3. Ask the user to input the quantity of each product available in the inventory.\n",
        "# Use the product names from the `products` list as keys in the `inventory` dictionary and assign the respective quantities as values.\n",
        "\n",
        "for product in products:\n",
        "    quantity = int(input(f\"Enter the quantity of {product} available in the inventory: \"))\n",
        "    inventory[product] = quantity\n",
        "\n",
        "print(inventory)"
      ],
      "metadata": {
        "colab": {
          "base_uri": "https://localhost:8080/"
        },
        "id": "-cwqLmcxfwhl",
        "outputId": "cced478e-a698-4e4c-9c3f-f0d1b04ec74c"
      },
      "id": "-cwqLmcxfwhl",
      "execution_count": null,
      "outputs": [
        {
          "output_type": "stream",
          "name": "stdout",
          "text": [
            "Enter the quantity of t-shirt available in the inventory: 2\n",
            "Enter the quantity of mug available in the inventory: 3\n",
            "Enter the quantity of hat available in the inventory: 4\n",
            "Enter the quantity of book available in the inventory: 5\n",
            "Enter the quantity of keychain available in the inventory: 6\n",
            "{'t-shirt': 2, 'mug': 3, 'hat': 4, 'book': 5, 'keychain': 6}\n"
          ]
        }
      ]
    },
    {
      "cell_type": "code",
      "source": [
        "# 4. Create an empty set called `customer_orders`.\n",
        "customer_orders = set()"
      ],
      "metadata": {
        "id": "nABXks5Rquhp"
      },
      "id": "nABXks5Rquhp",
      "execution_count": null,
      "outputs": []
    },
    {
      "cell_type": "code",
      "source": [
        "# 5. Ask the user to input the name of three products that a customer wants to order\n",
        "for i in range(3):\n",
        "  three_products = input('what do you want to order ? ')\n",
        "  customer_orders.add(three_products)\n",
        "\n",
        "\n",
        "# 6. Print the products in the `customer_orders` set.\n",
        "print(customer_orders)\n",
        "\n",
        "\n",
        "# 7. Calculate the following order statistics:\n",
        "#   - Total Products Ordered: The total number of products in the `customer_orders` set.\n",
        "#  - Percentage of Products Ordered: The percentage of products ordered compared to the total available products.\n",
        "\n",
        "#  Store these statistics in a tuple called `order_status`.\n",
        "\n",
        "total_products_ordered = len(customer_orders)\n",
        "percentage_ordered = (total_products_ordered / len(products)) * 100\n",
        "order_status = (total_products_ordered, percentage_ordered)\n",
        "\n",
        "print(order_status)"
      ],
      "metadata": {
        "colab": {
          "base_uri": "https://localhost:8080/"
        },
        "id": "R5Lt_R5UqvoP",
        "outputId": "0fa64b37-1bc8-4e20-e469-64208852081f"
      },
      "id": "R5Lt_R5UqvoP",
      "execution_count": null,
      "outputs": [
        {
          "output_type": "stream",
          "name": "stdout",
          "text": [
            "what do you want to order ? t-shirt\n",
            "what do you want to order ? mug\n",
            "what do you want to order ? hat\n",
            "{'hat', 'mug', 't-shirt'}\n",
            "(3, 60.0)\n"
          ]
        }
      ]
    },
    {
      "cell_type": "code",
      "source": [
        "# 8. Print the order statistics using the following format:\n",
        "'''\n",
        "   Order Statistics:\n",
        "   Total Products Ordered: <total_products_ordered>\n",
        "   Percentage of Products Ordered: <percentage_ordered>%\n",
        "'''\n",
        "\n",
        "print(\"Order Statistics:\")\n",
        "print(\"Total Products Ordered:\", order_status[0])\n",
        "print(\"Percentage of Unique Products Ordered:\", order_status[1])"
      ],
      "metadata": {
        "colab": {
          "base_uri": "https://localhost:8080/"
        },
        "id": "kzpKtemKuGRb",
        "outputId": "d28ae804-2268-48d3-8f5a-610e60142cb8"
      },
      "id": "kzpKtemKuGRb",
      "execution_count": null,
      "outputs": [
        {
          "output_type": "stream",
          "name": "stdout",
          "text": [
            "Order Statistics:\n",
            "Total Products Ordered: 3\n",
            "Percentage of Unique Products Ordered: 60.0\n"
          ]
        }
      ]
    },
    {
      "cell_type": "code",
      "source": [
        "# 9. Update the inventory by subtracting 1 from the quantity of each product. Modify the `inventory` dictionary accordingly.\n",
        "\n",
        "# Update the inventory by subtracting 1 from the quantity of each product in the customer's order\n",
        "for product in customer_orders:\n",
        "    # Check if the product exists in the inventory before updating\n",
        "    if product in inventory and inventory[product] > 0:\n",
        "        inventory[product] -= 1\n",
        "    else:\n",
        "        print(f\"Warning: Product '{product}' is out of stock.\")\n",
        "\n",
        "print(inventory)\n",
        "\n",
        "\n",
        "\n"
      ],
      "metadata": {
        "colab": {
          "base_uri": "https://localhost:8080/"
        },
        "id": "3E6Gh7n5ugnV",
        "outputId": "293d6892-afdb-436f-9d0c-8867b4057ad4"
      },
      "id": "3E6Gh7n5ugnV",
      "execution_count": null,
      "outputs": [
        {
          "output_type": "stream",
          "name": "stdout",
          "text": [
            "{'t-shirt': 1, 'mug': 2, 'hat': 3, 'book': 5, 'keychain': 6}\n"
          ]
        }
      ]
    },
    {
      "cell_type": "code",
      "source": [
        "# 10. Print the updated inventory, displaying the quantity of each product on separate lines.\n",
        "for product, quantity in inventory.items():\n",
        "    print(f\"{product}: {quantity}\")\n",
        "\n",
        "updated_inventory = dict(inventory)\n",
        "print(updated_inventory)"
      ],
      "metadata": {
        "colab": {
          "base_uri": "https://localhost:8080/"
        },
        "id": "qhqH4AHPu36p",
        "outputId": "f322a600-e9f6-4211-b9d3-9c4b12aef99e"
      },
      "id": "qhqH4AHPu36p",
      "execution_count": null,
      "outputs": [
        {
          "output_type": "stream",
          "name": "stdout",
          "text": [
            "t-shirt: 1\n",
            "mug: 2\n",
            "hat: 3\n",
            "book: 5\n",
            "keychain: 6\n",
            "{'t-shirt': 1, 'mug': 2, 'hat': 3, 'book': 5, 'keychain': 6}\n"
          ]
        }
      ]
    },
    {
      "cell_type": "code",
      "source": [
        "# NE PAS LANCER / DO NOT RUN !\n",
        "# Create an empty set called `customer_orders`.\n",
        "customer_orders = set()\n",
        "\n",
        "# Prompt the user to enter the name of a product that a customer wants to order.\n",
        "# Add the product name to the \"customer_orders\" set.\n",
        "add_another = True\n",
        "while add_another:\n",
        "    product = input(\"Enter the name of a product that the customer wants to order: \")\n",
        "    customer_orders.add(product)\n",
        "    choice = input(\"Do you want to add another product? (yes/no): \")\n",
        "    if choice.lower() != \"yes\":\n",
        "        add_another = False\n",
        "\n",
        "print(customer_orders)"
      ],
      "metadata": {
        "colab": {
          "base_uri": "https://localhost:8080/"
        },
        "id": "G1MhJjWsxLbi",
        "outputId": "e19b32f6-5ecf-4eef-a7c5-a3ff6ff1aa77"
      },
      "id": "G1MhJjWsxLbi",
      "execution_count": null,
      "outputs": [
        {
          "output_type": "stream",
          "name": "stdout",
          "text": [
            "Enter the name of a product that the customer wants to order: mug\n",
            "Do you want to add another product? (yes/no): no\n",
            "{'mug'}\n"
          ]
        }
      ]
    },
    {
      "cell_type": "code",
      "source": [
        "''' DEF FUNCTIONS'''\n",
        "\n",
        "\n",
        "\n",
        "\n",
        "\n",
        "\n",
        "\n",
        "\n",
        "\n",
        "\n",
        "\n",
        "\n",
        "\n",
        "\n",
        "\n",
        "\n",
        "def calculate_order_status(products, customer_orders):\n",
        "    total_products_ordered = len(customer_orders)\n",
        "    percentage_ordered = (total_products_ordered / len(products)) * 100\n",
        "    return total_products_ordered, percentage_ordered\n",
        "\n",
        "def print_order_statistics(order_status):\n",
        "    total_products_ordered, percentage_ordered = order_status\n",
        "    print(\"\\nOrder Statistics:\")\n",
        "    print(f\"Total Products Ordered: {total_products_ordered}\")\n",
        "    print(f\"Percentage of Products Ordered: {percentage_ordered:.2f}%\")\n",
        "\n",
        "def update_inventory(inventory, customer_orders):\n",
        "    for product in customer_orders:\n",
        "        inventory[product] -= 1\n",
        "\n",
        "def print_updated_inventory(inventory):\n",
        "    print(\"\\nUpdated Inventory:\")\n",
        "    for product, quantity in inventory.items():\n",
        "        print(f\"{product}: {quantity}\")\n",
        "\n",
        "\n",
        "\n",
        "\n",
        "\n",
        "\n",
        "\n",
        "# Step 1\n",
        "\n",
        "# Defining the products list:\n",
        "def initialize_products():\n",
        "    return [\"t-shirt\", \"mug\", \"hat\", \"book\", \"keychain\"]\n",
        "\n",
        "products_list = initialize_products()\n",
        "\n",
        "\n",
        "# Step 2\n",
        "\n",
        "# Defining the inventory\n",
        "def create_empty_inventory(products):\n",
        "    return {product: 0 for product in products}\n",
        "\n",
        "inventory_dict = create_empty_inventory(products_list)\n",
        "\n",
        "\n",
        "# Step 3\n",
        "\n",
        "#  Input the quantity for each product:\n",
        "def input_inventory_quantities(inventory):\n",
        "    for product in inventory:\n",
        "        quantity = int(input(f\"Enter the quantity of {product} available in the inventory: \"))\n",
        "        inventory[product] = quantity\n",
        "\n",
        "input_inventory_quantities(inventory_dict)\n",
        "\n",
        "\n",
        "# Step 4\n",
        "\n",
        "# Create an empty set called customer_orders.\n",
        "\n",
        "#Create empty customer orders\n",
        "def create_empty_customer_orders():\n",
        "    return set()\n",
        "customer_orders_set = create_empty_customer_orders()\n",
        "\n",
        "\n",
        "# Step 5\n",
        "# Ask the user to input the name of three products that a customer wants to order\n",
        "# (from those in the products list, meaning three products out of \"t-shirt\", \"mug\", \"hat\", \"book\" or \"keychain\".\n",
        "#  Add each product name to the customer_orders set.\n",
        "\n",
        "\n",
        "# Input customer orders\n",
        "def input_customer_orders(products, customer_orders):\n",
        "    for _ in range(3):\n",
        "        product = input(f\"Enter a product to order ({', '.join(products)}): \").lower()\n",
        "        if product in products:\n",
        "            customer_orders.add(product)\n",
        "        else:\n",
        "            print(f\"Invalid product. Please choose from {', '.join(products)}.\")\n",
        "\n",
        "\n",
        "input_customer_orders(products_list, customer_orders_set)\n",
        "\n",
        "# Step 6\n",
        "print(\"\\nProducts in Customer Orders Set:\")\n",
        "print(customer_orders_set)\n",
        "\n",
        "# Step 7\n",
        "order_status_tuple = calculate_order_status(products_list, customer_orders_set)\n",
        "\n",
        "# Step 8\n",
        "print_order_statistics(order_status_tuple)\n",
        "\n",
        "# Step 9\n",
        "update_inventory(inventory_dict, customer_orders_set)\n",
        "\n",
        "# Step 10\n",
        "print_updated_inventory(inventory_dict)"
      ],
      "metadata": {
        "id": "SQGCJV5FxMro",
        "colab": {
          "base_uri": "https://localhost:8080/"
        },
        "outputId": "2dcf1d38-aef3-434e-c6bd-0d6db4bcf40b"
      },
      "id": "SQGCJV5FxMro",
      "execution_count": null,
      "outputs": [
        {
          "output_type": "stream",
          "name": "stdout",
          "text": [
            "Enter the quantity of t-shirt available in the inventory: 3\n",
            "Enter the quantity of mug available in the inventory: 4\n",
            "Enter the quantity of hat available in the inventory: 5\n",
            "Enter the quantity of book available in the inventory: 6\n",
            "Enter the quantity of keychain available in the inventory: 7\n",
            "Enter a product to order (t-shirt, mug, hat, book, keychain): 8\n",
            "Invalid product. Please choose from t-shirt, mug, hat, book, keychain.\n",
            "Enter a product to order (t-shirt, mug, hat, book, keychain): t-shirt\n",
            "Enter a product to order (t-shirt, mug, hat, book, keychain): mug\n",
            "\n",
            "Products in Customer Orders Set:\n",
            "{'mug', 't-shirt'}\n",
            "\n",
            "Order Statistics:\n",
            "Total Products Ordered: 2\n",
            "Percentage of Products Ordered: 40.00%\n",
            "\n",
            "Updated Inventory:\n",
            "t-shirt: 2\n",
            "mug: 3\n",
            "hat: 5\n",
            "book: 6\n",
            "keychain: 7\n"
          ]
        }
      ]
    },
    {
      "cell_type": "code",
      "source": [
        "# Step 0\n",
        "products = [\"t-shirt\", \"mug\", \"hat\", \"book\", \"keychain\"]\n",
        "\n",
        "\n",
        "\n",
        "# 1. Initialize inventory\n",
        "\n",
        "def initialize_inventory(products):\n",
        "    inventory = {}\n",
        "    for product in products:\n",
        "        quantity = int(input(f\"Enter the quantity of {product}: \"))\n",
        "        inventory[product] = quantity\n",
        "    return inventory\n",
        "\n",
        "inventory = initialize_inventory(products)\n",
        "\n",
        "\n",
        "# 2. Get customer orders\n",
        "\n",
        "def get_customer_orders():\n",
        "    customer_orders = set()\n",
        "    while True:\n",
        "        order = input(\"Enter a product name: \")\n",
        "        customer_orders.add(order)\n",
        "        add_another = input(\"Do you want to add another product? (yes/no): \").lower()\n",
        "        if add_another != 'yes':\n",
        "            break\n",
        "    return customer_orders\n",
        "\n",
        "customer_orders = get_customer_orders()\n",
        "\n",
        "\n",
        "# 3. Update inventory\n",
        "\n",
        "def update_inventory(customer_orders, inventory):\n",
        "    for product in customer_orders:\n",
        "        if product in inventory:\n",
        "            inventory[product] -= 1\n",
        "    return inventory\n",
        "\n",
        "inventory = update_inventory(customer_orders, inventory)\n",
        "\n",
        "\n",
        "# 4. Calculate order statistics\n",
        "\n",
        "def calculate_order_statistics(customer_orders, products):\n",
        "    total_products_ordered = len(customer_orders)\n",
        "    unique_products_ordered = len(set(customer_orders))\n",
        "    return total_products_ordered, (unique_products_ordered / len(products)) * 100\n",
        "\n",
        "order_statistics = calculate_order_statistics(customer_orders, products)\n",
        "\n",
        "\n",
        "# 5. Print order statistics\n",
        "\n",
        "def print_order_statistics(order_statistics):\n",
        "    total_products_ordered, percentage_unique = order_statistics\n",
        "    print(f\"Total products ordered: {total_products_ordered}\")\n",
        "    print(f\"Percentage of unique products ordered: {percentage_unique}%\")\n",
        "\n",
        "print_order_statistics(order_statistics)\n",
        "\n",
        "\n",
        "# 6. Print updated inventory\n",
        "\n",
        "def print_updated_inventory(inventory):\n",
        "    print(\"Updated Inventory:\")\n",
        "    for product, quantity in inventory.items():\n",
        "        print(f\"{product}: {quantity}\")\n",
        "\n",
        "print_updated_inventory(inventory)"
      ],
      "metadata": {
        "id": "51qVMct51d-G",
        "colab": {
          "base_uri": "https://localhost:8080/"
        },
        "outputId": "514d2480-29a4-4019-b99f-16493bd86c75"
      },
      "id": "51qVMct51d-G",
      "execution_count": 2,
      "outputs": [
        {
          "output_type": "stream",
          "name": "stdout",
          "text": [
            "Enter the quantity of t-shirt: 10\n",
            "Enter the quantity of mug: 15\n",
            "Enter the quantity of hat: 20\n",
            "Enter the quantity of book: 25\n",
            "Enter the quantity of keychain: 30\n",
            "Enter a product name: t-shirt\n",
            "Do you want to add another product? (yes/no): yes\n",
            "Enter a product name: mug\n",
            "Do you want to add another product? (yes/no): yes\n",
            "Enter a product name: hat\n",
            "Do you want to add another product? (yes/no): no\n",
            "Total products ordered: 3\n",
            "Percentage of unique products ordered: 60.0%\n",
            "Updated Inventory:\n",
            "t-shirt: 9\n",
            "mug: 14\n",
            "hat: 19\n",
            "book: 25\n",
            "keychain: 30\n"
          ]
        }
      ]
    }
  ],
  "metadata": {
    "kernelspec": {
      "display_name": "Python 3 (ipykernel)",
      "language": "python",
      "name": "python3"
    },
    "language_info": {
      "codemirror_mode": {
        "name": "ipython",
        "version": 3
      },
      "file_extension": ".py",
      "mimetype": "text/x-python",
      "name": "python",
      "nbconvert_exporter": "python",
      "pygments_lexer": "ipython3",
      "version": "3.9.13"
    },
    "colab": {
      "provenance": []
    }
  },
  "nbformat": 4,
  "nbformat_minor": 5
}